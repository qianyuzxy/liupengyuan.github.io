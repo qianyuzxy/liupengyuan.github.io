{
 "cells": [
  {
   "cell_type": "markdown",
   "metadata": {},
   "source": [
    "## 如何使用jupyter notebook与Github\n",
    "### jupyter notebook的使用  \n",
    "\n",
    "**1. python的安装**<br>  \n",
    "* 进入http://www.python.org/ftp/python/3.6.0/python-3.6.0-amd64-webinstall.exe<br>\n",
    "- 安装到D:\\python下(安装过程中勾选 Install for all users以及add python to Path选项)<br>\n",
    "- win+R回车<br>\n",
    "- 键入power shell 回车<br>\n",
    "- 键入python 回车<br>\n",
    "  \n",
    "**2. jupyter notebook的安装**<br>\n",
    "* 键入win+R回车<br>\n",
    "* 键入powershell回车<br>\n",
    "* 键入pip install jupyter，回车<br>\n",
    "* 键入jupyter notebook，回车<br>\n",
    "\n",
    "**3. jupyter notebook的使用**<br>\n",
    "* 点new<br>\n",
    "* 点python3<br>\n",
    "* 点击Untitled页面<br>\n",
    "* 敲下面代码<br>\n",
    "```\n",
    "print('hello world')\n",
    "print(100)\n",
    "print(123.7)\n",
    "```\n",
    "* 点击执行图标或按CTRL+ENTER编译代码<br>\n",
    "* 键入h，查看快捷键帮助<br>\n",
    "* 点击help下面的markdown中的基本语法<br>\n",
    "* 回到notebook，进入Markdown模式，输入一些基本语法例子<br>\n",
    "\n",
    "### Github的使用\n",
    "* 注册一个github账户<br>\n",
    "* 点击头像进入your profile<br>\n",
    "* Create a new repository<br>\n",
    "* 尝试操作<br>\n",
    "    * fork一个项目<br>\n",
    "    * 提请pull request<br>\n",
    "    * upload files<br>\n",
    "    ![github](http://wanglu.info/wp-content/uploads/2015/04/github.png)\n",
    "    "
   ]
  },
  {
   "cell_type": "code",
   "execution_count": null,
   "metadata": {
    "collapsed": true
   },
   "outputs": [],
   "source": []
  }
 ],
 "metadata": {
  "kernelspec": {
   "display_name": "Python 3",
   "language": "python",
   "name": "python3"
  },
  "language_info": {
   "codemirror_mode": {
    "name": "ipython",
    "version": 3
   },
   "file_extension": ".py",
   "mimetype": "text/x-python",
   "name": "python",
   "nbconvert_exporter": "python",
   "pygments_lexer": "ipython3",
   "version": "3.6.0"
  }
 },
 "nbformat": 4,
 "nbformat_minor": 2
}
