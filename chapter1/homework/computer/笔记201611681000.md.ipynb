{
 "cells": [
  {
   "cell_type": "markdown",
   "metadata": {},
   "source": [
    "# Python 课程\n",
    "### 第一讲"
   ]
  },
  {
   "cell_type": "markdown",
   "metadata": {},
   "source": [
    "1. **如何使用jupyter notebook**\n",
    "\n",
    "  1. 打开：**win+R**并输入 *jupyter notebook*\n",
    "  2. 使用：点击左上角的** *NEW*->*PYTHON 3* **就可以创建一个新的编写程序了\n",
    "\n",
    "       * ###  **code 模式**(用**Y**来切换至 *code* 模式)：\n",
    "         ~~普通编码模式~~ 高级编写程序模式\n",
    "         **********\n",
    "       * ###  **markdown 模式**(用**M**来切换至 *markdown*模式)：\n",
    "      > 可以点击 **Help** 中*Markdown*来查询如何使用*Markdown*模式或点击以下网址\n",
    "      * [https://help.github.com/articles/basic-writing-and-formatting-syntax/] \n",
    "      * [https://www.baidu.com/]   \n",
    "            来学习如何使用 *markdown*模式\n",
    "   3. 运行：同时按住**CTRL** +**ENTER** 即可\n",
    "     （按住**ALT**+**ENTER**可以创建新的）\n",
    "   4. 保存：选择**FILE**中的**Download as** 中的**Notebook**\n",
    "   *******************\n",
    "2. 如何使用**Github** (~~全是英文根本看不懂，完全挑战我的英语水平~~) \n",
    "  1. 注册结束后点击 **START A NEW PROJECT **就可以创建自己的项目啦!\n",
    "  2. \n",
    "      也可以搜索自己想看的人的主页，进入对方的项目中，查看对方的项目，可以进行复制或者下载。\n",
    "      在自己的主页中更改了对方的项目后，点击 **PULL REQUEST** 等待对方接受并可能做以修改，这样你们就成了合作伙伴了！\n",
    "------\n",
    "     \n",
    "         \n",
    "        \n",
    "  "
   ]
  },
  {
   "cell_type": "markdown",
   "metadata": {},
   "source": [
    "![](file:/// C:\\Users\\DELL\\Pictures\\Screenshots\\屏幕截图(158).png)"
   ]
  },
  {
   "cell_type": "code",
   "execution_count": null,
   "metadata": {
    "collapsed": true
   },
   "outputs": [],
   "source": []
  },
  {
   "cell_type": "code",
   "execution_count": null,
   "metadata": {
    "collapsed": true
   },
   "outputs": [],
   "source": []
  }
 ],
 "metadata": {
  "kernelspec": {
   "display_name": "Python 3",
   "language": "python",
   "name": "python3"
  },
  "language_info": {
   "codemirror_mode": {
    "name": "ipython",
    "version": 3
   },
   "file_extension": ".py",
   "mimetype": "text/x-python",
   "name": "python",
   "nbconvert_exporter": "python",
   "pygments_lexer": "ipython3",
   "version": "3.6.0"
  }
 },
 "nbformat": 4,
 "nbformat_minor": 2
}
