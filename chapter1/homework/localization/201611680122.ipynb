{
 "cells": [
  {
   "cell_type": "markdown",
   "metadata": {},
   "source": [
    "### 写hello world程序，保存成ipynb格式。格式：学号.ipynb"
   ]
  },
  {
   "cell_type": "code",
   "execution_count": 4,
   "metadata": {
    "collapsed": false
   },
   "outputs": [
    {
     "name": "stdout",
     "output_type": "stream",
     "text": [
      "hello world!\n",
      "I am an AI, nice to meet you！\n",
      "¡Hola,español!\n"
     ]
    }
   ],
   "source": [
    "print('hello world!')\n",
    "print('I am an AI, nice to meet you！' )\n",
    "print('¡Hola,español!')"
   ]
  },
  {
   "cell_type": "markdown",
   "metadata": {},
   "source": [
    "~~This is a mistaken code~~\n",
    "\n",
    "**This text is extremely _IMPORTANT_**\n",
    "\n",
    "*How do you feel about Italian? *\n",
    "\n",
    "~~Actually,I don't like Python~~"
   ]
  },
  {
   "cell_type": "markdown",
   "metadata": {},
   "source": [
    "In the words of **Abraham Lincoln**:\n",
    "> Always bear in mind that your own resolution to succeed is more important than any other."
   ]
  }
 ],
 "metadata": {
  "kernelspec": {
   "display_name": "Python 3",
   "language": "python",
   "name": "python3"
  },
  "language_info": {
   "codemirror_mode": {
    "name": "ipython",
    "version": 3
   },
   "file_extension": ".py",
   "mimetype": "text/x-python",
   "name": "python",
   "nbconvert_exporter": "python",
   "pygments_lexer": "ipython3",
   "version": "3.6.0"
  }
 },
 "nbformat": 4,
 "nbformat_minor": 2
}
