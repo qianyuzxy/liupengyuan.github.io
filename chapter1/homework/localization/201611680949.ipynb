{
 "cells": [
  {
   "cell_type": "code",
   "execution_count": 4,
   "metadata": {
    "collapsed": false
   },
   "outputs": [
    {
     "name": "stdout",
     "output_type": "stream",
     "text": [
      "Hello world\n",
      "12345\n"
     ]
    }
   ],
   "source": [
    "print('Hello world')\n",
    "print(12345)"
   ]
  },
  {
   "cell_type": "markdown",
   "metadata": {
    "collapsed": true,
    "deletable": true,
    "editable": true
   },
   "source": [
    "\n",
    "## Hello.\n",
    "~~wrong.~~\n",
    "\n",
    ">quote.\n",
    "\n",
    "With [Baidu](www.baidu.com)\n",
    "\n",
    "### test\n",
    "This is a test.\n",
    "```\n",
    "test1\n",
    "test2\n",
    "test3\n",
    "```\n",
    "#### List\n",
    "1. A\n",
    "  1. a\n",
    "    * a\n",
    "2. B\n",
    "  2. b\n",
    "    * b\n",
    "    \n",
    "- C\n",
    "- D\n"
   ]
  }
 ],
 "metadata": {
  "kernelspec": {
   "display_name": "Python 3",
   "language": "python",
   "name": "python3"
  },
  "language_info": {
   "codemirror_mode": {
    "name": "ipython",
    "version": 3
   },
   "file_extension": ".py",
   "mimetype": "text/x-python",
   "name": "python",
   "nbconvert_exporter": "python",
   "pygments_lexer": "ipython3",
   "version": "3.6.0"
  }
 },
 "nbformat": 4,
 "nbformat_minor": 2
}
