{
 "cells": [
  {
   "cell_type": "markdown",
   "metadata": {},
   "source": [
    "# Steps \n",
    "- 下载 [Python](https://www.python.org/)\n",
    "- 安装  Python\n",
    "- 打开  *Powershell* 输入 **pip install jupyter notebook** 安装 jupyter notebook \n",
    "- 打开 jupyter notebook\n",
    "  - 点击 *new* \n",
    "  - 点击 *Python 3*\n",
    "- 输入:\n",
    "  > print('hello world')\n",
    "1. **Ctrl-Enter** run selected cells\n",
    "2. **Enter** enter edit mode\n",
    "3. **Y** to code\n",
    "4. **M** to markdown"
   ]
  },
  {
   "cell_type": "code",
   "execution_count": 7,
   "metadata": {
    "collapsed": false
   },
   "outputs": [
    {
     "name": "stdout",
     "output_type": "stream",
     "text": [
      "hello world\n"
     ]
    }
   ],
   "source": [
    "print('hello world')"
   ]
  }
 ],
 "metadata": {
  "kernelspec": {
   "display_name": "Python 3",
   "language": "python",
   "name": "python3"
  },
  "language_info": {
   "codemirror_mode": {
    "name": "ipython",
    "version": 3
   },
   "file_extension": ".py",
   "mimetype": "text/x-python",
   "name": "python",
   "nbconvert_exporter": "python",
   "pygments_lexer": "ipython3",
   "version": "3.6.0"
  }
 },
 "nbformat": 4,
 "nbformat_minor": 2
}
